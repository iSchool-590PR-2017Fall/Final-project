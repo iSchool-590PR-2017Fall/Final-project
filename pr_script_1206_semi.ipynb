{
 "cells": [
  {
   "cell_type": "code",
   "execution_count": 1,
   "metadata": {
    "collapsed": true
   },
   "outputs": [],
   "source": [
    "import random"
   ]
  },
  {
   "cell_type": "code",
   "execution_count": 2,
   "metadata": {
    "collapsed": true
   },
   "outputs": [],
   "source": [
    "def WL(board):\n",
    "        \"\"\"\n",
    "        GIven a board checks if it is in a winning state.\n",
    "        Arguments:\n",
    "              board: a list containing X,O or -.\n",
    "        Return Value:\n",
    "               True if board in winning state. Else False\n",
    "        \"\"\"\n",
    "        #  check if any of the rows has winning combination\n",
    "        for i in range(3):\n",
    "            if (\n",
    "                            len(set(board[i * 3:i * 3 + 3])) is 1 and\n",
    "                            board[i * 3] is not '-'\n",
    "            ):\n",
    "                return True\n",
    "\n",
    "        # check if any of the Columns has winning combination\n",
    "        for i in range(3):\n",
    "            if (\n",
    "                            (board[i] is board[i + 3]) and\n",
    "                            (board[i] is board[i + 6]) and\n",
    "                            board[i] is not '-'\n",
    "            ):\n",
    "                return True\n",
    "\n",
    "        # 2,4,6 and 0,4,8 cases\n",
    "        # diagonal\n",
    "        if (\n",
    "                            board[0] is board[4] and\n",
    "                            board[4] is board[8] and\n",
    "                        board[4] is not '-'\n",
    "        ):\n",
    "            return True\n",
    "\n",
    "        if (\n",
    "                            board[2] is board[4] and\n",
    "                            board[4] is board[6] and\n",
    "                        board[4] is not '-'\n",
    "        ):\n",
    "            return True\n",
    "\n",
    "        return False"
   ]
  },
  {
   "cell_type": "code",
   "execution_count": 3,
   "metadata": {
    "collapsed": true
   },
   "outputs": [],
   "source": [
    "def isWin(board):\n",
    "    \"\"\"\n",
    "    This is to define the status of \"isWin\" (for X).\n",
    "    \n",
    "    >>> bb=['X', 'X', 'X', '-', 'X', 'O', '-', 'O', 'O']\n",
    "    >>> print(isWin(bb))\n",
    "    True\n",
    "    \"\"\"\n",
    "    if(\n",
    "        WL(board) is True and \n",
    "        board.count('-')%2 == 0\n",
    "    ):\n",
    "        return True\n",
    "    \n",
    "    return False"
   ]
  },
  {
   "cell_type": "code",
   "execution_count": 4,
   "metadata": {},
   "outputs": [],
   "source": [
    "def isDraw(board):\n",
    "    \"\"\"\n",
    "    This is to define the status of \"isDraw\".\n",
    "    \n",
    "    >>> bb=['X', 'X', 'O', 'O', 'X', 'X', 'X','O', 'O']\n",
    "    >>> print(isDraw(bb))\n",
    "    True\n",
    "    \"\"\"\n",
    "    if(\n",
    "        WL(board) is False and \n",
    "        board.count('-') == 0\n",
    "    ):\n",
    "        return True\n",
    "    \n",
    "    return False\n",
    "    "
   ]
  },
  {
   "cell_type": "code",
   "execution_count": 5,
   "metadata": {},
   "outputs": [],
   "source": [
    "def isLost(board):\n",
    "    if(\n",
    "        WL(board) is True and \n",
    "        board.count('-')%2 == 1\n",
    "    ):\n",
    "        return True\n",
    "    \n",
    "    return False"
   ]
  },
  {
   "cell_type": "code",
   "execution_count": 101,
   "metadata": {
    "collapsed": true
   },
   "outputs": [],
   "source": [
    "def notFinish(board):\n",
    "    \"\"\"\n",
    "    This is to define the status of \"notFinish\".\n",
    "    \n",
    "    >>> b=['X', 'X', 'O', 'X', '-', '-', '-', '-', 'O']\n",
    "    >>> print(notFinish(b))\n",
    "    False\n",
    "    \"\"\"\n",
    "    if(\n",
    "        WL(board) is False and\n",
    "        board.count('-') != 0\n",
    "    ):\n",
    "        return True\n",
    "    \n",
    "    return False"
   ]
  },
  {
   "cell_type": "code",
   "execution_count": 9,
   "metadata": {},
   "outputs": [
    {
     "name": "stdout",
     "output_type": "stream",
     "text": [
      "False True False\n"
     ]
    }
   ],
   "source": [
    "# Something is wrong, but it is okay.\n",
    "bb=['X', 'X', '-', 'X', '-', '-', 'O', 'O', 'O']\n",
    "print(isWin(bb),isLost(bb),isDraw(bb))\n"
   ]
  },
  {
   "cell_type": "code",
   "execution_count": 10,
   "metadata": {},
   "outputs": [
    {
     "name": "stdout",
     "output_type": "stream",
     "text": [
      "False False True\n"
     ]
    }
   ],
   "source": [
    "# isDraw\n",
    "bb=['X', 'X', 'O', 'O', 'X', 'X', 'X','O', 'O']\n",
    "print(isWin(bb),isLost(bb),isDraw(bb))\n"
   ]
  },
  {
   "cell_type": "code",
   "execution_count": 102,
   "metadata": {
    "collapsed": true
   },
   "outputs": [],
   "source": [
    "def selection(board,n):\n",
    "    \"\"\"\n",
    "    This is a manually selection.\n",
    "    \n",
    "    For the \n",
    "    \"\"\"\n",
    "    if board[n] == '-':\n",
    "        m = board.count('-')\n",
    "        if m%2 ==0:\n",
    "            board[n]='O'\n",
    "        else:\n",
    "            board[n]='X'\n",
    "#     else: \n",
    "#         print(\"The position has already been occupied\")\n",
    "    return board"
   ]
  },
  {
   "cell_type": "code",
   "execution_count": 12,
   "metadata": {
    "collapsed": true
   },
   "outputs": [],
   "source": [
    "def potential_choice(board):\n",
    "    pc = [i for i, j in enumerate(board) if j == '-'];\n",
    "#     print(pc)\n",
    "    return pc"
   ]
  },
  {
   "cell_type": "code",
   "execution_count": 88,
   "metadata": {},
   "outputs": [],
   "source": [
    "def hard(pc,board,n=1,w2=[0]*9,l2=[0]*9,d2=[0]*9):\n",
    "    \"\"\"This is the hard mode, which exhasts all the possible solutions, and gives the optimum result.\n",
    "    param: pc is the potential choices for the situation;\n",
    "    param: board is the suitiation;\n",
    "    param: n is the times monte carlo simulation would play;\n",
    "    param: w2 is previous winning occrence for MCS; initially [0]*9.\n",
    "    param: l2 is previous losing occrence for MCS; initially [0]*9.\n",
    "    param: d2 is previous drawing occrence for MCS; initially [0]*9.\n",
    "    \"\"\"\n",
    "    x=0;\n",
    "    while x<n:\n",
    "        x+=1\n",
    "        choice = random.choice(pc)\n",
    "        board1 = board[:]\n",
    "        if isWin(selection(board1, choice)) is True:\n",
    "            status = 1;\n",
    "            w2[choice] +=1\n",
    "#             w+=1\n",
    "#             print(' '*(9-len(pc)),x, ':' ,selection(board1, choice), \": the winning status is\",status,\".\")\n",
    "#             print(w2,l2,d2)\n",
    "        \n",
    "        elif isLost(selection(board1, choice)) is True:\n",
    "            status = -1;\n",
    "#             l+=1\n",
    "            l2[choice] +=1\n",
    "#             print(' '*(9-len(pc)),x, ':' ,selection(board1, choice), \": the winning status is\",status,\".\")\n",
    "#             print(w2,l2,d2)\n",
    "            \n",
    "        elif isDraw(selection(board1, choice)) is True:\n",
    "            status = 0;\n",
    "#             d+=1\n",
    "            d2[choice] +=1\n",
    "#             print(' '*(9-len(pc)),x, ':' ,selection(board1, choice), \": the winning status is\",status,\".\")\n",
    "#             print(w2,l2,d2)\n",
    "        \n",
    "        elif notFinish(selection(board1, choice)) is True:\n",
    "            status = '?'\n",
    "#             print(' '*(9-len(pc)),x, ':' ,selection(board1, choice), \": the winning status is\",status,\".\")\n",
    "            (w3,l3,d3) = hard(potential_choice(board1),board1,1,w2,l2,d2)\n",
    "            if sum(w3)-sum(w2) !=0:\n",
    "                w2[choice] += 1\n",
    "            if sum(l3)-sum(l2) !=0:\n",
    "                l2[choice] += 1\n",
    "            if sum(d3)-sum(d2) !=0:\n",
    "                d2[choice] += 1\n",
    "#             print(w2,l2,d2)\n",
    "            \n",
    "    return(w2,l2,d2)"
   ]
  },
  {
   "cell_type": "code",
   "execution_count": 112,
   "metadata": {},
   "outputs": [],
   "source": [
    "# this is a 1st method for auto-selection.\n",
    "# the problem is that there might be different moves offering equal winning rate.\n",
    "# def auto_selection(w2,l2,d2) -> int:\n",
    "#     \"\"\"the method always choose the move of the highest winning rate.\n",
    "#     w2: winning occurrences through monte carlo simulation;\n",
    "#     l2: losing occurrences through monte carlo simulation;\n",
    "#     d2: drawing occurrences through monte carlo simulation\n",
    "#     move: the output, which is the best move it can choose.{also depending on the hard/medium/easy level}\"\"\"\n",
    "#     dict={}\n",
    "#     for i in range(9):\n",
    "#         if w2[i]+l2[i]+d2[i]>0:\n",
    "#             dict[i]=w2[i]/(w2[i]+l2[i]+d2[i])\n",
    "#     print(dict)\n",
    "#     move = max(dict, key=stats.get)\n",
    "#     print(move)\n",
    "#     return move"
   ]
  },
  {
   "cell_type": "code",
   "execution_count": 120,
   "metadata": {
    "collapsed": true
   },
   "outputs": [],
   "source": [
    "# this is a 2nd method for auto-selection.\n",
    "# The problem is that that max wining occurrence is not enough to win.\n",
    "# the example is in the next cell\n",
    "# def auto_selection(w2,l2,d2) -> int:\n",
    "#     \"\"\"\n",
    "#     This program simply select the best move by count the most win occurrence.\n",
    "#     \"\"\"\n",
    "#     move = w2.index(max(w2))\n",
    "#     return move"
   ]
  },
  {
   "cell_type": "code",
   "execution_count": 137,
   "metadata": {},
   "outputs": [
    {
     "name": "stdout",
     "output_type": "stream",
     "text": [
      "['-', '-', '-', '-', '-', '-', '-', '-', '-']\n",
      "['-', '-', '-', '-', 'X', '-', '-', '-', '-']\n",
      "['-', '-', '-', '-', 'X', '-', 'O', '-', '-']\n",
      "['-', '-', '-', '-', 'X', '-', 'O', '-', 'X']\n",
      "['O', '-', '-', '-', 'X', '-', 'O', '-', 'X']\n",
      "['O', '-', '-', '-', 'X', 'X', 'O', '-', 'X']\n",
      "['O', '-', '-', 'O', 'X', 'X', 'O', '-', 'X']\n"
     ]
    }
   ],
   "source": [
    "# # the example board0 = ['-', '-', '-', '-', '-', '-', '-', '-', '-']\n",
    "# while notFinish(board0) is True:\n",
    "#     board0 = hard_single(board0,1000)\n",
    "# #     print(board0)\n",
    "# print(board0)"
   ]
  },
  {
   "cell_type": "code",
   "execution_count": 138,
   "metadata": {
    "collapsed": true
   },
   "outputs": [],
   "source": [
    "# this is a 3rd method for auto-selection. \n",
    "# working fine so far.\n",
    "def auto_selection(w2,l2,d2) -> int:\n",
    "    \"\"\"\n",
    "    This program simply select the best move by count the most win occurrence.\n",
    "    \"\"\"\n",
    "    move = l2.index(min(l2))\n",
    "    return move"
   ]
  },
  {
   "cell_type": "code",
   "execution_count": 121,
   "metadata": {
    "collapsed": true
   },
   "outputs": [],
   "source": [
    "def main_hard2(number=10):\n",
    "    board0 = ['X', '-', 'O', 'X', '-', '-', '-', 'X', 'O']\n",
    "    w2=[0]*9;\n",
    "    l2=[0]*9;\n",
    "    d2=[0]*9;\n",
    "    selection(board0,1)\n",
    "    print(board0)\n",
    "    pc = potential_choice(board0)\n",
    "#     print(w2,l2,d2)\n",
    "    (w2,l2,d2) = hard(pc,board0,number,w2,l2,d2)\n",
    "#     print(w2,l2,d2)\n",
    "    move = auto_selection(w2,l2,d2)\n",
    "    print(move)"
   ]
  },
  {
   "cell_type": "code",
   "execution_count": 122,
   "metadata": {
    "scrolled": false
   },
   "outputs": [
    {
     "name": "stdout",
     "output_type": "stream",
     "text": [
      "['X', 'O', 'O', 'X', '-', '-', '-', 'X', 'O']\n",
      "6\n"
     ]
    }
   ],
   "source": [
    "main_hard2(10000)"
   ]
  },
  {
   "cell_type": "code",
   "execution_count": null,
   "metadata": {
    "collapsed": true
   },
   "outputs": [],
   "source": []
  },
  {
   "cell_type": "code",
   "execution_count": null,
   "metadata": {
    "collapsed": true
   },
   "outputs": [],
   "source": []
  },
  {
   "cell_type": "code",
   "execution_count": 140,
   "metadata": {
    "collapsed": true
   },
   "outputs": [],
   "source": [
    "def hard_single(board0, number=10):\n",
    "#     selection(board0,1)\n",
    "    print(board0)\n",
    "    pc = potential_choice(board0)\n",
    "    (w2,l2,d2) = hard(pc,board0,number,[0]*9,[0]*9,[0]*9)\n",
    "    move = auto_selection(w2,l2,d2)\n",
    "#     print(move)\n",
    "    board0 = selection(board0,move)\n",
    "\n",
    "    return board0\n"
   ]
  },
  {
   "cell_type": "code",
   "execution_count": 127,
   "metadata": {},
   "outputs": [
    {
     "name": "stdout",
     "output_type": "stream",
     "text": [
      "['X', 'O', 'O', 'X', '-', '-', '-', 'X', 'O']\n",
      "6\n"
     ]
    }
   ],
   "source": [
    "board0 = ['X', '-', 'O', 'X', '-', '-', '-', 'X', 'O']\n",
    "main_hard2(board0,1000)\n",
    "\n",
    "\n"
   ]
  },
  {
   "cell_type": "code",
   "execution_count": 128,
   "metadata": {},
   "outputs": [
    {
     "name": "stdout",
     "output_type": "stream",
     "text": [
      "['X', '-', 'O', 'X', '-', '-', '-', 'X', 'O']\n"
     ]
    },
    {
     "data": {
      "text/plain": [
       "['X', '-', 'O', 'X', '-', '-', 'O', 'X', 'O']"
      ]
     },
     "execution_count": 128,
     "metadata": {},
     "output_type": "execute_result"
    }
   ],
   "source": [
    "board0 = ['X', '-', 'O', 'X', '-', '-', '-', 'X', 'O']\n",
    "hard_single(board0,1000)"
   ]
  },
  {
   "cell_type": "code",
   "execution_count": 133,
   "metadata": {},
   "outputs": [
    {
     "name": "stdout",
     "output_type": "stream",
     "text": [
      "['X', '-', 'O', 'X', '-', '-', '-', 'X', 'O']\n",
      "['X', '-', 'O', 'X', '-', '-', 'O', 'X', 'O']\n",
      "['X', '-', 'O', 'X', '-', 'X', 'O', 'X', 'O']\n",
      "['X', '-', 'O', 'X', 'O', 'X', 'O', 'X', 'O']\n"
     ]
    }
   ],
   "source": [
    "board0 = ['X', '-', 'O', 'X', '-', '-', '-', 'X', 'O']\n",
    "while board0.count('-')>0:\n",
    "    board0 = hard_single(board0,1000)\n",
    "#     print(board0)\n",
    "    "
   ]
  },
  {
   "cell_type": "code",
   "execution_count": 137,
   "metadata": {},
   "outputs": [
    {
     "name": "stdout",
     "output_type": "stream",
     "text": [
      "['-', '-', '-', '-', '-', '-', '-', '-', '-']\n",
      "['-', '-', '-', '-', 'X', '-', '-', '-', '-']\n",
      "['-', '-', '-', '-', 'X', '-', 'O', '-', '-']\n",
      "['-', '-', '-', '-', 'X', '-', 'O', '-', 'X']\n",
      "['O', '-', '-', '-', 'X', '-', 'O', '-', 'X']\n",
      "['O', '-', '-', '-', 'X', 'X', 'O', '-', 'X']\n",
      "['O', '-', '-', 'O', 'X', 'X', 'O', '-', 'X']\n"
     ]
    }
   ],
   "source": [
    "# auto_selection No.2\n",
    "board0 = ['-', '-', '-', '-', '-', '-', '-', '-', '-']\n",
    "while notFinish(board0) is True:\n",
    "    board0 = hard_single(board0,1000)\n",
    "#     print(board0)\n",
    "print(board0)"
   ]
  },
  {
   "cell_type": "code",
   "execution_count": 141,
   "metadata": {},
   "outputs": [
    {
     "name": "stdout",
     "output_type": "stream",
     "text": [
      "['-', '-', '-', '-', '-', '-', '-', '-', '-']\n",
      "['-', '-', '-', '-', '-', 'X', '-', '-', '-']\n",
      "['-', '-', '-', '-', '-', 'X', '-', '-', '-']\n",
      "['-', '-', '-', '-', '-', 'X', '-', '-', '-']\n",
      "['-', '-', '-', '-', '-', 'X', '-', '-', '-']\n",
      "['-', '-', '-', '-', '-', 'X', '-', '-', '-']\n",
      "['-', '-', '-', '-', '-', 'X', '-', '-', '-']\n",
      "['-', '-', '-', '-', '-', 'X', '-', '-', '-']\n",
      "['-', '-', '-', '-', '-', 'X', '-', '-', '-']\n",
      "['-', '-', '-', '-', '-', 'X', '-', '-', '-']\n",
      "['-', '-', '-', '-', '-', 'X', '-', '-', '-']\n",
      "['-', '-', '-', '-', '-', 'X', '-', '-', '-']\n",
      "['-', '-', '-', '-', '-', 'X', '-', '-', '-']\n",
      "['-', '-', '-', '-', '-', 'X', '-', '-', '-']\n",
      "['-', '-', '-', '-', '-', 'X', '-', '-', '-']\n",
      "['-', '-', '-', '-', '-', 'X', '-', '-', '-']\n",
      "['-', '-', '-', '-', '-', 'X', '-', '-', '-']\n"
     ]
    },
    {
     "ename": "KeyboardInterrupt",
     "evalue": "",
     "output_type": "error",
     "traceback": [
      "\u001b[0;31m---------------------------------------------------------------------------\u001b[0m",
      "\u001b[0;31mKeyboardInterrupt\u001b[0m                         Traceback (most recent call last)",
      "\u001b[0;32m<ipython-input-141-e40cc2a35240>\u001b[0m in \u001b[0;36m<module>\u001b[0;34m()\u001b[0m\n\u001b[1;32m      2\u001b[0m \u001b[0mboard0\u001b[0m \u001b[0;34m=\u001b[0m \u001b[0;34m[\u001b[0m\u001b[0;34m'-'\u001b[0m\u001b[0;34m,\u001b[0m \u001b[0;34m'-'\u001b[0m\u001b[0;34m,\u001b[0m \u001b[0;34m'-'\u001b[0m\u001b[0;34m,\u001b[0m \u001b[0;34m'-'\u001b[0m\u001b[0;34m,\u001b[0m \u001b[0;34m'-'\u001b[0m\u001b[0;34m,\u001b[0m \u001b[0;34m'-'\u001b[0m\u001b[0;34m,\u001b[0m \u001b[0;34m'-'\u001b[0m\u001b[0;34m,\u001b[0m \u001b[0;34m'-'\u001b[0m\u001b[0;34m,\u001b[0m \u001b[0;34m'-'\u001b[0m\u001b[0;34m]\u001b[0m\u001b[0;34m\u001b[0m\u001b[0m\n\u001b[1;32m      3\u001b[0m \u001b[0;32mwhile\u001b[0m \u001b[0mnotFinish\u001b[0m\u001b[0;34m(\u001b[0m\u001b[0mboard0\u001b[0m\u001b[0;34m)\u001b[0m \u001b[0;32mis\u001b[0m \u001b[0;32mTrue\u001b[0m\u001b[0;34m:\u001b[0m\u001b[0;34m\u001b[0m\u001b[0m\n\u001b[0;32m----> 4\u001b[0;31m     \u001b[0mboard0\u001b[0m \u001b[0;34m=\u001b[0m \u001b[0mhard_single\u001b[0m\u001b[0;34m(\u001b[0m\u001b[0mboard0\u001b[0m\u001b[0;34m,\u001b[0m\u001b[0;36m1000\u001b[0m\u001b[0;34m)\u001b[0m\u001b[0;34m\u001b[0m\u001b[0m\n\u001b[0m\u001b[1;32m      5\u001b[0m \u001b[0;31m#     print(board0)\u001b[0m\u001b[0;34m\u001b[0m\u001b[0;34m\u001b[0m\u001b[0m\n\u001b[1;32m      6\u001b[0m \u001b[0mprint\u001b[0m\u001b[0;34m(\u001b[0m\u001b[0mboard0\u001b[0m\u001b[0;34m)\u001b[0m\u001b[0;34m\u001b[0m\u001b[0m\n",
      "\u001b[0;32m<ipython-input-140-c5a42f9dc6e1>\u001b[0m in \u001b[0;36mhard_single\u001b[0;34m(board0, number)\u001b[0m\n\u001b[1;32m      3\u001b[0m     \u001b[0mprint\u001b[0m\u001b[0;34m(\u001b[0m\u001b[0mboard0\u001b[0m\u001b[0;34m)\u001b[0m\u001b[0;34m\u001b[0m\u001b[0m\n\u001b[1;32m      4\u001b[0m     \u001b[0mpc\u001b[0m \u001b[0;34m=\u001b[0m \u001b[0mpotential_choice\u001b[0m\u001b[0;34m(\u001b[0m\u001b[0mboard0\u001b[0m\u001b[0;34m)\u001b[0m\u001b[0;34m\u001b[0m\u001b[0m\n\u001b[0;32m----> 5\u001b[0;31m     \u001b[0;34m(\u001b[0m\u001b[0mw2\u001b[0m\u001b[0;34m,\u001b[0m\u001b[0ml2\u001b[0m\u001b[0;34m,\u001b[0m\u001b[0md2\u001b[0m\u001b[0;34m)\u001b[0m \u001b[0;34m=\u001b[0m \u001b[0mhard\u001b[0m\u001b[0;34m(\u001b[0m\u001b[0mpc\u001b[0m\u001b[0;34m,\u001b[0m\u001b[0mboard0\u001b[0m\u001b[0;34m,\u001b[0m\u001b[0mnumber\u001b[0m\u001b[0;34m,\u001b[0m\u001b[0;34m[\u001b[0m\u001b[0;36m0\u001b[0m\u001b[0;34m]\u001b[0m\u001b[0;34m*\u001b[0m\u001b[0;36m9\u001b[0m\u001b[0;34m,\u001b[0m\u001b[0;34m[\u001b[0m\u001b[0;36m0\u001b[0m\u001b[0;34m]\u001b[0m\u001b[0;34m*\u001b[0m\u001b[0;36m9\u001b[0m\u001b[0;34m,\u001b[0m\u001b[0;34m[\u001b[0m\u001b[0;36m0\u001b[0m\u001b[0;34m]\u001b[0m\u001b[0;34m*\u001b[0m\u001b[0;36m9\u001b[0m\u001b[0;34m)\u001b[0m\u001b[0;34m\u001b[0m\u001b[0m\n\u001b[0m\u001b[1;32m      6\u001b[0m     \u001b[0mmove\u001b[0m \u001b[0;34m=\u001b[0m \u001b[0mauto_selection\u001b[0m\u001b[0;34m(\u001b[0m\u001b[0mw2\u001b[0m\u001b[0;34m,\u001b[0m\u001b[0ml2\u001b[0m\u001b[0;34m,\u001b[0m\u001b[0md2\u001b[0m\u001b[0;34m)\u001b[0m\u001b[0;34m\u001b[0m\u001b[0m\n\u001b[1;32m      7\u001b[0m \u001b[0;31m#     print(move)\u001b[0m\u001b[0;34m\u001b[0m\u001b[0;34m\u001b[0m\u001b[0m\n",
      "\u001b[0;32m<ipython-input-88-7b0dc7097bad>\u001b[0m in \u001b[0;36mhard\u001b[0;34m(pc, board, n, w2, l2, d2)\u001b[0m\n\u001b[1;32m     29\u001b[0m             \u001b[0mstatus\u001b[0m \u001b[0;34m=\u001b[0m \u001b[0;34m'?'\u001b[0m\u001b[0;34m\u001b[0m\u001b[0m\n\u001b[1;32m     30\u001b[0m \u001b[0;31m#             print(' '*(9-len(pc)),x, ':' ,selection(board1, choice), \": the winning status is\",status,\".\")\u001b[0m\u001b[0;34m\u001b[0m\u001b[0;34m\u001b[0m\u001b[0m\n\u001b[0;32m---> 31\u001b[0;31m             \u001b[0;34m(\u001b[0m\u001b[0mw3\u001b[0m\u001b[0;34m,\u001b[0m\u001b[0ml3\u001b[0m\u001b[0;34m,\u001b[0m\u001b[0md3\u001b[0m\u001b[0;34m)\u001b[0m \u001b[0;34m=\u001b[0m \u001b[0mhard\u001b[0m\u001b[0;34m(\u001b[0m\u001b[0mpotential_choice\u001b[0m\u001b[0;34m(\u001b[0m\u001b[0mboard1\u001b[0m\u001b[0;34m)\u001b[0m\u001b[0;34m,\u001b[0m\u001b[0mboard1\u001b[0m\u001b[0;34m,\u001b[0m\u001b[0;36m1\u001b[0m\u001b[0;34m,\u001b[0m\u001b[0mw2\u001b[0m\u001b[0;34m,\u001b[0m\u001b[0ml2\u001b[0m\u001b[0;34m,\u001b[0m\u001b[0md2\u001b[0m\u001b[0;34m)\u001b[0m\u001b[0;34m\u001b[0m\u001b[0m\n\u001b[0m\u001b[1;32m     32\u001b[0m             \u001b[0;32mif\u001b[0m \u001b[0msum\u001b[0m\u001b[0;34m(\u001b[0m\u001b[0mw3\u001b[0m\u001b[0;34m)\u001b[0m\u001b[0;34m-\u001b[0m\u001b[0msum\u001b[0m\u001b[0;34m(\u001b[0m\u001b[0mw2\u001b[0m\u001b[0;34m)\u001b[0m \u001b[0;34m!=\u001b[0m\u001b[0;36m0\u001b[0m\u001b[0;34m:\u001b[0m\u001b[0;34m\u001b[0m\u001b[0m\n\u001b[1;32m     33\u001b[0m                 \u001b[0mw2\u001b[0m\u001b[0;34m[\u001b[0m\u001b[0mchoice\u001b[0m\u001b[0;34m]\u001b[0m \u001b[0;34m+=\u001b[0m \u001b[0;36m1\u001b[0m\u001b[0;34m\u001b[0m\u001b[0m\n",
      "\u001b[0;32m<ipython-input-88-7b0dc7097bad>\u001b[0m in \u001b[0;36mhard\u001b[0;34m(pc, board, n, w2, l2, d2)\u001b[0m\n\u001b[1;32m     29\u001b[0m             \u001b[0mstatus\u001b[0m \u001b[0;34m=\u001b[0m \u001b[0;34m'?'\u001b[0m\u001b[0;34m\u001b[0m\u001b[0m\n\u001b[1;32m     30\u001b[0m \u001b[0;31m#             print(' '*(9-len(pc)),x, ':' ,selection(board1, choice), \": the winning status is\",status,\".\")\u001b[0m\u001b[0;34m\u001b[0m\u001b[0;34m\u001b[0m\u001b[0m\n\u001b[0;32m---> 31\u001b[0;31m             \u001b[0;34m(\u001b[0m\u001b[0mw3\u001b[0m\u001b[0;34m,\u001b[0m\u001b[0ml3\u001b[0m\u001b[0;34m,\u001b[0m\u001b[0md3\u001b[0m\u001b[0;34m)\u001b[0m \u001b[0;34m=\u001b[0m \u001b[0mhard\u001b[0m\u001b[0;34m(\u001b[0m\u001b[0mpotential_choice\u001b[0m\u001b[0;34m(\u001b[0m\u001b[0mboard1\u001b[0m\u001b[0;34m)\u001b[0m\u001b[0;34m,\u001b[0m\u001b[0mboard1\u001b[0m\u001b[0;34m,\u001b[0m\u001b[0;36m1\u001b[0m\u001b[0;34m,\u001b[0m\u001b[0mw2\u001b[0m\u001b[0;34m,\u001b[0m\u001b[0ml2\u001b[0m\u001b[0;34m,\u001b[0m\u001b[0md2\u001b[0m\u001b[0;34m)\u001b[0m\u001b[0;34m\u001b[0m\u001b[0m\n\u001b[0m\u001b[1;32m     32\u001b[0m             \u001b[0;32mif\u001b[0m \u001b[0msum\u001b[0m\u001b[0;34m(\u001b[0m\u001b[0mw3\u001b[0m\u001b[0;34m)\u001b[0m\u001b[0;34m-\u001b[0m\u001b[0msum\u001b[0m\u001b[0;34m(\u001b[0m\u001b[0mw2\u001b[0m\u001b[0;34m)\u001b[0m \u001b[0;34m!=\u001b[0m\u001b[0;36m0\u001b[0m\u001b[0;34m:\u001b[0m\u001b[0;34m\u001b[0m\u001b[0m\n\u001b[1;32m     33\u001b[0m                 \u001b[0mw2\u001b[0m\u001b[0;34m[\u001b[0m\u001b[0mchoice\u001b[0m\u001b[0;34m]\u001b[0m \u001b[0;34m+=\u001b[0m \u001b[0;36m1\u001b[0m\u001b[0;34m\u001b[0m\u001b[0m\n",
      "\u001b[0;32m<ipython-input-88-7b0dc7097bad>\u001b[0m in \u001b[0;36mhard\u001b[0;34m(pc, board, n, w2, l2, d2)\u001b[0m\n\u001b[1;32m     12\u001b[0m \u001b[0;31m#             print(w2,l2,d2)\u001b[0m\u001b[0;34m\u001b[0m\u001b[0;34m\u001b[0m\u001b[0m\n\u001b[1;32m     13\u001b[0m \u001b[0;34m\u001b[0m\u001b[0m\n\u001b[0;32m---> 14\u001b[0;31m         \u001b[0;32melif\u001b[0m \u001b[0misLost\u001b[0m\u001b[0;34m(\u001b[0m\u001b[0mselection\u001b[0m\u001b[0;34m(\u001b[0m\u001b[0mboard1\u001b[0m\u001b[0;34m,\u001b[0m \u001b[0mchoice\u001b[0m\u001b[0;34m)\u001b[0m\u001b[0;34m)\u001b[0m \u001b[0;32mis\u001b[0m \u001b[0;32mTrue\u001b[0m\u001b[0;34m:\u001b[0m\u001b[0;34m\u001b[0m\u001b[0m\n\u001b[0m\u001b[1;32m     15\u001b[0m             \u001b[0mstatus\u001b[0m \u001b[0;34m=\u001b[0m \u001b[0;34m-\u001b[0m\u001b[0;36m1\u001b[0m\u001b[0;34m;\u001b[0m\u001b[0;34m\u001b[0m\u001b[0m\n\u001b[1;32m     16\u001b[0m \u001b[0;31m#             l+=1\u001b[0m\u001b[0;34m\u001b[0m\u001b[0;34m\u001b[0m\u001b[0m\n",
      "\u001b[0;32m<ipython-input-5-5e3be86952af>\u001b[0m in \u001b[0;36misLost\u001b[0;34m(board)\u001b[0m\n\u001b[1;32m      1\u001b[0m \u001b[0;32mdef\u001b[0m \u001b[0misLost\u001b[0m\u001b[0;34m(\u001b[0m\u001b[0mboard\u001b[0m\u001b[0;34m)\u001b[0m\u001b[0;34m:\u001b[0m\u001b[0;34m\u001b[0m\u001b[0m\n\u001b[1;32m      2\u001b[0m     if(\n\u001b[0;32m----> 3\u001b[0;31m         \u001b[0mWL\u001b[0m\u001b[0;34m(\u001b[0m\u001b[0mboard\u001b[0m\u001b[0;34m)\u001b[0m \u001b[0;32mis\u001b[0m \u001b[0;32mTrue\u001b[0m \u001b[0;32mand\u001b[0m\u001b[0;34m\u001b[0m\u001b[0m\n\u001b[0m\u001b[1;32m      4\u001b[0m         \u001b[0mboard\u001b[0m\u001b[0;34m.\u001b[0m\u001b[0mcount\u001b[0m\u001b[0;34m(\u001b[0m\u001b[0;34m'-'\u001b[0m\u001b[0;34m)\u001b[0m\u001b[0;34m%\u001b[0m\u001b[0;36m2\u001b[0m \u001b[0;34m==\u001b[0m \u001b[0;36m1\u001b[0m\u001b[0;34m\u001b[0m\u001b[0m\n\u001b[1;32m      5\u001b[0m     ):\n",
      "\u001b[0;32m<ipython-input-2-1d7485f797e7>\u001b[0m in \u001b[0;36mWL\u001b[0;34m(board)\u001b[0m\n\u001b[1;32m     10\u001b[0m         \u001b[0;32mfor\u001b[0m \u001b[0mi\u001b[0m \u001b[0;32min\u001b[0m \u001b[0mrange\u001b[0m\u001b[0;34m(\u001b[0m\u001b[0;36m3\u001b[0m\u001b[0;34m)\u001b[0m\u001b[0;34m:\u001b[0m\u001b[0;34m\u001b[0m\u001b[0m\n\u001b[1;32m     11\u001b[0m             if (\n\u001b[0;32m---> 12\u001b[0;31m                             \u001b[0mlen\u001b[0m\u001b[0;34m(\u001b[0m\u001b[0mset\u001b[0m\u001b[0;34m(\u001b[0m\u001b[0mboard\u001b[0m\u001b[0;34m[\u001b[0m\u001b[0mi\u001b[0m \u001b[0;34m*\u001b[0m \u001b[0;36m3\u001b[0m\u001b[0;34m:\u001b[0m\u001b[0mi\u001b[0m \u001b[0;34m*\u001b[0m \u001b[0;36m3\u001b[0m \u001b[0;34m+\u001b[0m \u001b[0;36m3\u001b[0m\u001b[0;34m]\u001b[0m\u001b[0;34m)\u001b[0m\u001b[0;34m)\u001b[0m \u001b[0;32mis\u001b[0m \u001b[0;36m1\u001b[0m \u001b[0;32mand\u001b[0m\u001b[0;34m\u001b[0m\u001b[0m\n\u001b[0m\u001b[1;32m     13\u001b[0m                             \u001b[0mboard\u001b[0m\u001b[0;34m[\u001b[0m\u001b[0mi\u001b[0m \u001b[0;34m*\u001b[0m \u001b[0;36m3\u001b[0m\u001b[0;34m]\u001b[0m \u001b[0;32mis\u001b[0m \u001b[0;32mnot\u001b[0m \u001b[0;34m'-'\u001b[0m\u001b[0;34m\u001b[0m\u001b[0m\n\u001b[1;32m     14\u001b[0m             ):\n",
      "\u001b[0;31mKeyboardInterrupt\u001b[0m: "
     ]
    }
   ],
   "source": [
    "# auto_selection No.3\n",
    "board0 = ['-', '-', '-', '-', '-', '-', '-', '-', '-']\n",
    "while notFinish(board0) is True:\n",
    "    board0 = hard_single(board0,1000)\n",
    "#     print(board0)\n",
    "print(board0)"
   ]
  },
  {
   "cell_type": "code",
   "execution_count": null,
   "metadata": {
    "collapsed": true
   },
   "outputs": [],
   "source": []
  },
  {
   "cell_type": "code",
   "execution_count": null,
   "metadata": {
    "collapsed": true
   },
   "outputs": [],
   "source": []
  },
  {
   "cell_type": "code",
   "execution_count": 55,
   "metadata": {},
   "outputs": [],
   "source": [
    "def main_hard(number=10):\n",
    "    board0 = ['X', '-', 'O', '-', '-', '-', '-', 'X', 'O']\n",
    "    w2=[0]*9;\n",
    "    l2=[0]*9;\n",
    "    d2=[0]*9;\n",
    "#     board0 = ['X', '-', '-', '-', '-', '-', '-', '-', 'O']\n",
    "    selection(board0,1)\n",
    "    print(board0)\n",
    "    pc = potential_choice(board0)\n",
    "#     result(pc,board0,4)\n",
    "    (w2,l2,d2) = hard(pc,board0,number,w2,l2,d2)\n",
    "    \n",
    "    for i in range(9):\n",
    "        if w2[i]+l2[i]+d2[i]>0:\n",
    "            print(i,w2[i]/(w2[i]+l2[i]+d2[i]))\n",
    "    \n",
    "#     print(w2,l2,d2)\n"
   ]
  },
  {
   "cell_type": "code",
   "execution_count": 58,
   "metadata": {
    "scrolled": true
   },
   "outputs": [
    {
     "name": "stdout",
     "output_type": "stream",
     "text": [
      "['X', 'X', 'O', '-', '-', '-', '-', 'X', 'O']\n",
      "4 0.7500749175906503\n",
      "5 0.0\n",
      "6 0.0\n"
     ]
    }
   ],
   "source": [
    "main_hard(10000)"
   ]
  },
  {
   "cell_type": "code",
   "execution_count": null,
   "metadata": {
    "collapsed": true
   },
   "outputs": [],
   "source": []
  },
  {
   "cell_type": "code",
   "execution_count": null,
   "metadata": {
    "collapsed": true
   },
   "outputs": [],
   "source": [
    "def medium():\n",
    "    board0 = ['X', '-', 'O', 'X', '-', '-', '-', '-', 'O']\n",
    "#     board0 = ['X', '-', '-', '-', '-', '-', '-', '-', 'O']\n",
    "    selection(board0,1)\n",
    "    print(board0)\n",
    "    pc = potential_choice(board0)\n",
    "#     result(pc,board0,4)\n",
    "    (w,l,d) = result(pc,board0,10)\n",
    "    a=w+l+d\n",
    "    print(w/a,l/a,d/a)"
   ]
  },
  {
   "cell_type": "code",
   "execution_count": 16,
   "metadata": {},
   "outputs": [
    {
     "ename": "NameError",
     "evalue": "name 'medium' is not defined",
     "output_type": "error",
     "traceback": [
      "\u001b[0;31m---------------------------------------------------------------------------\u001b[0m",
      "\u001b[0;31mNameError\u001b[0m                                 Traceback (most recent call last)",
      "\u001b[0;32m<ipython-input-16-cf1aae28acd7>\u001b[0m in \u001b[0;36m<module>\u001b[0;34m()\u001b[0m\n\u001b[0;32m----> 1\u001b[0;31m \u001b[0mmedium\u001b[0m\u001b[0;34m(\u001b[0m\u001b[0;34m)\u001b[0m\u001b[0;34m\u001b[0m\u001b[0m\n\u001b[0m",
      "\u001b[0;31mNameError\u001b[0m: name 'medium' is not defined"
     ]
    }
   ],
   "source": [
    "medium()"
   ]
  },
  {
   "cell_type": "code",
   "execution_count": null,
   "metadata": {
    "collapsed": true
   },
   "outputs": [],
   "source": []
  },
  {
   "cell_type": "code",
   "execution_count": null,
   "metadata": {
    "collapsed": true
   },
   "outputs": [],
   "source": []
  },
  {
   "cell_type": "code",
   "execution_count": null,
   "metadata": {
    "collapsed": true
   },
   "outputs": [],
   "source": []
  },
  {
   "cell_type": "code",
   "execution_count": null,
   "metadata": {
    "collapsed": true
   },
   "outputs": [],
   "source": [
    "def main2():\n",
    "    board0 = ['X', '-', '-', '-', '-', 'X', '-', '-', 'O']\n",
    "    selection(board0,1)\n",
    "    print(board0)\n",
    "    pc = potential_choice(board0)\n",
    "    (w,l,d) = result(pc,board0,10)\n",
    "    print(w,l,d)"
   ]
  },
  {
   "cell_type": "code",
   "execution_count": null,
   "metadata": {},
   "outputs": [],
   "source": [
    "main2()"
   ]
  },
  {
   "cell_type": "code",
   "execution_count": 78,
   "metadata": {
    "collapsed": true
   },
   "outputs": [],
   "source": [
    "a=[0,1,2,0]"
   ]
  },
  {
   "cell_type": "code",
   "execution_count": 79,
   "metadata": {},
   "outputs": [
    {
     "data": {
      "text/plain": [
       "3"
      ]
     },
     "execution_count": 79,
     "metadata": {},
     "output_type": "execute_result"
    }
   ],
   "source": [
    "sum(a)"
   ]
  },
  {
   "cell_type": "code",
   "execution_count": null,
   "metadata": {
    "collapsed": true
   },
   "outputs": [],
   "source": []
  },
  {
   "cell_type": "code",
   "execution_count": null,
   "metadata": {
    "collapsed": true
   },
   "outputs": [],
   "source": []
  },
  {
   "cell_type": "code",
   "execution_count": null,
   "metadata": {
    "collapsed": true
   },
   "outputs": [],
   "source": []
  }
 ],
 "metadata": {
  "kernelspec": {
   "display_name": "Python 3",
   "language": "python",
   "name": "python3"
  },
  "language_info": {
   "codemirror_mode": {
    "name": "ipython",
    "version": 3
   },
   "file_extension": ".py",
   "mimetype": "text/x-python",
   "name": "python",
   "nbconvert_exporter": "python",
   "pygments_lexer": "ipython3",
   "version": "3.5.2"
  }
 },
 "nbformat": 4,
 "nbformat_minor": 2
}
