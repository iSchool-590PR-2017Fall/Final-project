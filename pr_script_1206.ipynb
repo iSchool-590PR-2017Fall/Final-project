{
 "cells": [
  {
   "cell_type": "code",
   "execution_count": 1,
   "metadata": {
    "collapsed": true
   },
   "outputs": [],
   "source": [
    "import random"
   ]
  },
  {
   "cell_type": "code",
   "execution_count": 2,
   "metadata": {
    "collapsed": true
   },
   "outputs": [],
   "source": [
    "# board0 = ['X', '-', 'O', 'X', '-', 'X', '-', '-', 'O']\n",
    "# board1 = []"
   ]
  },
  {
   "cell_type": "code",
   "execution_count": 3,
   "metadata": {
    "collapsed": true
   },
   "outputs": [],
   "source": [
    "def selection(board,n):\n",
    "    if board[n] == '-':\n",
    "        m = board.count('-')\n",
    "        if m%2 ==0:\n",
    "            board[n]='O'\n",
    "        else:\n",
    "            board[n]='X'\n",
    "#         board1=board0\n",
    "    else: \n",
    "        print(\"The position has already been occupied\")\n",
    "    return board"
   ]
  },
  {
   "cell_type": "code",
   "execution_count": 4,
   "metadata": {
    "collapsed": true
   },
   "outputs": [],
   "source": [
    "def potential_choice(board):\n",
    "    pc = [i for i, j in enumerate(board) if j == '-'];\n",
    "    print(pc)\n",
    "    return pc"
   ]
  },
  {
   "cell_type": "code",
   "execution_count": 63,
   "metadata": {
    "collapsed": true
   },
   "outputs": [],
   "source": [
    "def result(pc,board,n=4):\n",
    "    x=0;w=0;l=0;d=0\n",
    "    while x<n:\n",
    "        x+=1\n",
    "#         print(x)\n",
    "        choice = random.choice(pc)\n",
    "        board1 = board[:]\n",
    "        if choice in [4]: # if (selection(board1, choice) in state1):\n",
    "            status = 1;w+=1\n",
    "            print(' '*(9-len(pc)),x, ':' ,selection(board1, choice), \": the winning status is\",status,\".\")\n",
    "        elif choice in [6]:\n",
    "            status = -1;l+=1\n",
    "            print(' '*(9-len(pc)),x, ':' ,selection(board1, choice), \": the winning status is\",status,\".\")\n",
    "        elif choice in [7]:\n",
    "            status = 0;d+=1\n",
    "            print(' '*(9-len(pc)),x, ':' ,selection(board1, choice), \": the winning status is\",status,\".\")\n",
    "        else:\n",
    "            status = '?'\n",
    "            print(' '*(9-len(pc)),x, ':' ,selection(board1, choice), \": the winning status is\",status,\".\")\n",
    "#             board2 = selection(board1,choice)\n",
    "            result(potential_choice(board1),board1,n-1)\n",
    "#     x+=1\n",
    "    print(w,l,d)\n",
    "    return(w,l,d)"
   ]
  },
  {
   "cell_type": "code",
   "execution_count": 9,
   "metadata": {
    "collapsed": true
   },
   "outputs": [],
   "source": [
    "def p2_choose(board):\n",
    "    pc = [i for i, j in enumerate(board) if j == '-'];\n",
    "    print(pc)\n",
    "    for choice in pc:\n",
    "        board1 = board[:]\n",
    "        if choice in [4,6]: # if (selection(board1, choice) in state1):\n",
    "            status = 1;\n",
    "            print(selection(board1, choice), \": the winning status is\",status,\".\")\n",
    "        else:\n",
    "            status = '?'\n",
    "            print(selection(board1, choice), \": the winning status is\",status,\".\")\n",
    "            board2 = selection(board1,choice)\n",
    "            result(potential_choice(board2),board2)"
   ]
  },
  {
   "cell_type": "code",
   "execution_count": 34,
   "metadata": {},
   "outputs": [
    {
     "data": {
      "text/plain": [
       "'   '"
      ]
     },
     "execution_count": 34,
     "metadata": {},
     "output_type": "execute_result"
    }
   ],
   "source": []
  },
  {
   "cell_type": "code",
   "execution_count": 60,
   "metadata": {
    "collapsed": true
   },
   "outputs": [],
   "source": [
    "def main():\n",
    "    board0 = ['X', '-', 'O', 'X', '-', '-', '-', '-', 'O']\n",
    "#     board0 = ['X', '-', '-', '-', '-', '-', '-', '-', 'O']\n",
    "    selection(board0,1)\n",
    "    print(board0)\n",
    "    pc = potential_choice(board0)\n",
    "    result(pc,board0,4)"
   ]
  },
  {
   "cell_type": "code",
   "execution_count": 65,
   "metadata": {
    "scrolled": false
   },
   "outputs": [
    {
     "name": "stdout",
     "output_type": "stream",
     "text": [
      "['X', 'X', 'O', 'X', '-', '-', '-', '-', 'O']\n",
      "[4, 5, 6, 7]\n",
      "      1 : ['X', 'X', 'O', 'X', '-', '-', '-', 'O', 'O'] : the winning status is 0 .\n",
      "      2 : ['X', 'X', 'O', 'X', '-', 'O', '-', '-', 'O'] : the winning status is ? .\n",
      "[4, 6, 7]\n",
      "       1 : ['X', 'X', 'O', 'X', '-', 'O', '-', 'X', 'O'] : the winning status is 0 .\n",
      "       2 : ['X', 'X', 'O', 'X', '-', 'O', 'X', '-', 'O'] : the winning status is -1 .\n",
      "       3 : ['X', 'X', 'O', 'X', '-', 'O', 'X', '-', 'O'] : the winning status is -1 .\n",
      "      3 : ['X', 'X', 'O', 'X', 'O', '-', '-', '-', 'O'] : the winning status is 1 .\n",
      "      4 : ['X', 'X', 'O', 'X', '-', 'O', '-', '-', 'O'] : the winning status is ? .\n",
      "[4, 6, 7]\n",
      "       1 : ['X', 'X', 'O', 'X', '-', 'O', '-', 'X', 'O'] : the winning status is 0 .\n",
      "       2 : ['X', 'X', 'O', 'X', '-', 'O', '-', 'X', 'O'] : the winning status is 0 .\n",
      "       3 : ['X', 'X', 'O', 'X', 'X', 'O', '-', '-', 'O'] : the winning status is 1 .\n"
     ]
    }
   ],
   "source": [
    "main()"
   ]
  },
  {
   "cell_type": "code",
   "execution_count": null,
   "metadata": {
    "collapsed": true
   },
   "outputs": [],
   "source": []
  },
  {
   "cell_type": "code",
   "execution_count": 51,
   "metadata": {
    "collapsed": true
   },
   "outputs": [],
   "source": [
    "def main2():\n",
    "    board0 = ['X', '-', '-', '-', '-', 'X', '-', '-', 'O']\n",
    "#     board0 = ['X', '-', '-', '-', '-', '-', '-', '-', 'O']\n",
    "    selection(board0,1)\n",
    "    print(board0)\n",
    "    pc = potential_choice(board0)\n",
    "    (w,l,d) = result(pc,board0,4)\n",
    "    print(w,l,d)"
   ]
  },
  {
   "cell_type": "code",
   "execution_count": 55,
   "metadata": {},
   "outputs": [
    {
     "name": "stdout",
     "output_type": "stream",
     "text": [
      "['X', 'O', '-', '-', '-', 'X', '-', '-', 'O']\n",
      "[2, 3, 4, 6, 7]\n",
      "     1 : ['X', 'O', '-', 'X', '-', 'X', '-', '-', 'O'] : the winning status is ? .\n",
      "[2, 4, 6, 7]\n",
      "      1 : ['X', 'O', '-', 'X', '-', 'X', '-', 'O', 'O'] : the winning status is 0 .\n",
      "      2 : ['X', 'O', 'O', 'X', '-', 'X', '-', '-', 'O'] : the winning status is ? .\n",
      "[4, 6, 7]\n",
      "       1 : ['X', 'O', 'O', 'X', 'X', 'X', '-', '-', 'O'] : the winning status is 1 .\n",
      "       2 : ['X', 'O', 'O', 'X', '-', 'X', 'X', '-', 'O'] : the winning status is -1 .\n",
      "1 1 0\n",
      "      3 : ['X', 'O', '-', 'X', '-', 'X', '-', 'O', 'O'] : the winning status is 0 .\n",
      "0 0 2\n",
      "     2 : ['X', 'O', '-', '-', '-', 'X', '-', 'X', 'O'] : the winning status is 0 .\n",
      "     3 : ['X', 'O', '-', '-', '-', 'X', '-', 'X', 'O'] : the winning status is 0 .\n",
      "     4 : ['X', 'O', '-', 'X', '-', 'X', '-', '-', 'O'] : the winning status is ? .\n",
      "[2, 4, 6, 7]\n",
      "      1 : ['X', 'O', 'O', 'X', '-', 'X', '-', '-', 'O'] : the winning status is ? .\n",
      "[4, 6, 7]\n",
      "       1 : ['X', 'O', 'O', 'X', '-', 'X', 'X', '-', 'O'] : the winning status is -1 .\n",
      "       2 : ['X', 'O', 'O', 'X', '-', 'X', '-', 'X', 'O'] : the winning status is 0 .\n",
      "0 1 1\n",
      "      2 : ['X', 'O', '-', 'X', '-', 'X', '-', 'O', 'O'] : the winning status is 0 .\n",
      "      3 : ['X', 'O', 'O', 'X', '-', 'X', '-', '-', 'O'] : the winning status is ? .\n",
      "[4, 6, 7]\n",
      "       1 : ['X', 'O', 'O', 'X', '-', 'X', '-', 'X', 'O'] : the winning status is 0 .\n",
      "       2 : ['X', 'O', 'O', 'X', '-', 'X', 'X', '-', 'O'] : the winning status is -1 .\n",
      "0 1 1\n",
      "0 0 1\n",
      "0 0 2\n",
      "0 0 2\n"
     ]
    }
   ],
   "source": [
    "main2()"
   ]
  },
  {
   "cell_type": "code",
   "execution_count": null,
   "metadata": {
    "collapsed": true
   },
   "outputs": [],
   "source": []
  },
  {
   "cell_type": "code",
   "execution_count": null,
   "metadata": {
    "collapsed": true
   },
   "outputs": [],
   "source": []
  },
  {
   "cell_type": "code",
   "execution_count": null,
   "metadata": {
    "collapsed": true
   },
   "outputs": [],
   "source": []
  },
  {
   "cell_type": "code",
   "execution_count": null,
   "metadata": {
    "collapsed": true
   },
   "outputs": [],
   "source": []
  },
  {
   "cell_type": "code",
   "execution_count": null,
   "metadata": {
    "collapsed": true
   },
   "outputs": [],
   "source": []
  }
 ],
 "metadata": {
  "kernelspec": {
   "display_name": "Python 3",
   "language": "python",
   "name": "python3"
  },
  "language_info": {
   "codemirror_mode": {
    "name": "ipython",
    "version": 3
   },
   "file_extension": ".py",
   "mimetype": "text/x-python",
   "name": "python",
   "nbconvert_exporter": "python",
   "pygments_lexer": "ipython3",
   "version": "3.5.2"
  }
 },
 "nbformat": 4,
 "nbformat_minor": 2
}
